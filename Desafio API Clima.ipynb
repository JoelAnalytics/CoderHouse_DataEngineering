{
 "cells": [
  {
   "cell_type": "code",
   "execution_count": 89,
   "id": "f38d2728",
   "metadata": {},
   "outputs": [],
   "source": [
    "import pandas as pd \n",
    "import numpy as np\n",
    "import requests\n",
    "import json\n",
    "from datetime import datetime"
   ]
  },
  {
   "cell_type": "markdown",
   "id": "b77bb9e0",
   "metadata": {},
   "source": [
    "### Por medio de un Json File vamos a manejar la las Key de la API y de Redshift y tambien usuario Redshift."
   ]
  },
  {
   "cell_type": "code",
   "execution_count": 249,
   "id": "8f950721",
   "metadata": {},
   "outputs": [],
   "source": [
    "with open(\"config.json\") as config_file:\n",
    "    config=json.load(config_file)"
   ]
  },
  {
   "cell_type": "code",
   "execution_count": 250,
   "id": "f7af864f",
   "metadata": {},
   "outputs": [],
   "source": [
    "Api_Key=config[\"API_KEY\"]"
   ]
  },
  {
   "cell_type": "code",
   "execution_count": 251,
   "id": "6b594fad",
   "metadata": {},
   "outputs": [],
   "source": [
    "Redshift_Key=config[\"Reshift_KEY\"]"
   ]
  },
  {
   "cell_type": "code",
   "execution_count": 252,
   "id": "314d5527",
   "metadata": {},
   "outputs": [],
   "source": [
    "Redshift_User=config[\"Redshift_User\"]"
   ]
  },
  {
   "cell_type": "markdown",
   "id": "713c859a",
   "metadata": {},
   "source": [
    "### El proposito de esta extraccion es mantener un historico del Clima 6 lugares lugares turisticos de Argentina a lo largo del tiempo"
   ]
  },
  {
   "cell_type": "code",
   "execution_count": 213,
   "id": "f819e47c",
   "metadata": {},
   "outputs": [],
   "source": [
    "Destinos=[\"Buenos_Aires\",\"Bariloche\",\"Mendoza\",\"Jujuy\",\"Salta\",\"Mar_del_plata\"]"
   ]
  },
  {
   "cell_type": "markdown",
   "id": "253fd2f3",
   "metadata": {},
   "source": [
    "## Se crea una funcion que crea una DataFrame extrayendo algunos datos de cada una de las ciudades turisticas para posteriormente subirlo a Redshift"
   ]
  },
  {
   "cell_type": "code",
   "execution_count": 253,
   "id": "ebfda448",
   "metadata": {},
   "outputs": [],
   "source": [
    "def weather_df(lista_ciudades):\n",
    "    \n",
    "    conn = http.client.HTTPSConnection(\"api.weatherapi.com\")\n",
    "\n",
    "    headers = {\n",
    "        'X-RapidAPI-Key': Api_Key,\n",
    "        'X-RapidAPI-Host': \"api.weatherapi.com\"\n",
    "    }\n",
    "\n",
    "    \n",
    "    df_final=[]\n",
    "    \n",
    "    for x in lista_ciudades:\n",
    "        code=\"/v1/current.json?key=34eeba99ba8e404d947211802230909&q=\"+str(x)+\"&aqi=no\"\n",
    "        conn.request(\"GET\", code , headers=headers)\n",
    "        res = conn.getresponse()\n",
    "        data = res.read()\n",
    "        weather_df=json.loads(data)\n",
    "        date=weather_df.get(\"location\",{}).get(\"localtime\")\n",
    "        city_name=weather_df.get(\"location\",{}).get(\"name\")\n",
    "        region=weather_df.get(\"location\",{}).get(\"region\")\n",
    "        country=weather_df.get(\"location\",{}).get(\"country\")\n",
    "        weather=weather_df.get(\"current\",{}).get(\"temp_c\")\n",
    "        humidity=weather_df.get(\"current\",{}).get(\"humidity\")\n",
    "        precipitation=weather_df.get(\"current\",{}).get(\"precip_mm\")\n",
    "        last_updated=weather_df.get(\"current\",{}).get(\"last_updated\")\n",
    "        registro={\"Date\":date,\"City_Name\":city_name,\"Region\":region,\"Country\":country,\"Weather\":weather,\"Humidity\":humidity,\n",
    "                  \"Precipitation\":precipitation,\"Last_Updated\":last_updated}\n",
    "        df_final.append(registro)\n",
    "    df_final=pd.DataFrame.from_dict(df_final)\n",
    "            \n",
    "    return df_final"
   ]
  },
  {
   "cell_type": "code",
   "execution_count": 285,
   "id": "b88d9935",
   "metadata": {},
   "outputs": [],
   "source": [
    "weather=weather_df(Destinos)"
   ]
  },
  {
   "cell_type": "code",
   "execution_count": 286,
   "id": "13ff5ef1",
   "metadata": {},
   "outputs": [],
   "source": [
    "weather[\"Date\"] = pd.to_datetime(weather[\"Date\"], format='%Y-%m-%d %H:%M').dt.date"
   ]
  },
  {
   "cell_type": "code",
   "execution_count": 287,
   "id": "aaa3ec53",
   "metadata": {},
   "outputs": [],
   "source": [
    "weather[\"Last_Updated\"]=pd.to_datetime(weather[\"Last_Updated\"], format='%Y-%m-%d %H:%M')"
   ]
  },
  {
   "cell_type": "code",
   "execution_count": 288,
   "id": "c9e81996",
   "metadata": {},
   "outputs": [
    {
     "data": {
      "text/html": [
       "<div>\n",
       "<style scoped>\n",
       "    .dataframe tbody tr th:only-of-type {\n",
       "        vertical-align: middle;\n",
       "    }\n",
       "\n",
       "    .dataframe tbody tr th {\n",
       "        vertical-align: top;\n",
       "    }\n",
       "\n",
       "    .dataframe thead th {\n",
       "        text-align: right;\n",
       "    }\n",
       "</style>\n",
       "<table border=\"1\" class=\"dataframe\">\n",
       "  <thead>\n",
       "    <tr style=\"text-align: right;\">\n",
       "      <th></th>\n",
       "      <th>Date</th>\n",
       "      <th>City_Name</th>\n",
       "      <th>Region</th>\n",
       "      <th>Country</th>\n",
       "      <th>Weather</th>\n",
       "      <th>Humidity</th>\n",
       "      <th>Precipitation</th>\n",
       "      <th>Last_Updated</th>\n",
       "    </tr>\n",
       "  </thead>\n",
       "  <tbody>\n",
       "    <tr>\n",
       "      <th>0</th>\n",
       "      <td>2023-09-09</td>\n",
       "      <td>Buenos Aires</td>\n",
       "      <td>Distrito Federal</td>\n",
       "      <td>Argentina</td>\n",
       "      <td>13.9</td>\n",
       "      <td>70</td>\n",
       "      <td>0.0</td>\n",
       "      <td>2023-09-09 22:00:00</td>\n",
       "    </tr>\n",
       "    <tr>\n",
       "      <th>1</th>\n",
       "      <td>2023-09-09</td>\n",
       "      <td>Bariloche</td>\n",
       "      <td>Rio Negro</td>\n",
       "      <td>Argentina</td>\n",
       "      <td>1.3</td>\n",
       "      <td>90</td>\n",
       "      <td>0.0</td>\n",
       "      <td>2023-09-09 22:00:00</td>\n",
       "    </tr>\n",
       "    <tr>\n",
       "      <th>2</th>\n",
       "      <td>2023-09-09</td>\n",
       "      <td>Mendoza</td>\n",
       "      <td>Mendoza</td>\n",
       "      <td>Argentina</td>\n",
       "      <td>14.6</td>\n",
       "      <td>36</td>\n",
       "      <td>0.0</td>\n",
       "      <td>2023-09-09 22:00:00</td>\n",
       "    </tr>\n",
       "    <tr>\n",
       "      <th>3</th>\n",
       "      <td>2023-09-09</td>\n",
       "      <td>Jujuy</td>\n",
       "      <td>Jujuy</td>\n",
       "      <td>Argentina</td>\n",
       "      <td>9.3</td>\n",
       "      <td>65</td>\n",
       "      <td>0.0</td>\n",
       "      <td>2023-09-09 22:00:00</td>\n",
       "    </tr>\n",
       "    <tr>\n",
       "      <th>4</th>\n",
       "      <td>2023-09-09</td>\n",
       "      <td>Salta</td>\n",
       "      <td>Salta</td>\n",
       "      <td>Argentina</td>\n",
       "      <td>13.1</td>\n",
       "      <td>59</td>\n",
       "      <td>0.0</td>\n",
       "      <td>2023-09-09 22:00:00</td>\n",
       "    </tr>\n",
       "    <tr>\n",
       "      <th>5</th>\n",
       "      <td>2023-09-09</td>\n",
       "      <td>Mar Del Plata</td>\n",
       "      <td>Buenos Aires</td>\n",
       "      <td>Argentina</td>\n",
       "      <td>11.5</td>\n",
       "      <td>74</td>\n",
       "      <td>0.0</td>\n",
       "      <td>2023-09-09 21:45:00</td>\n",
       "    </tr>\n",
       "  </tbody>\n",
       "</table>\n",
       "</div>"
      ],
      "text/plain": [
       "         Date      City_Name            Region    Country  Weather  Humidity  \\\n",
       "0  2023-09-09   Buenos Aires  Distrito Federal  Argentina     13.9        70   \n",
       "1  2023-09-09      Bariloche         Rio Negro  Argentina      1.3        90   \n",
       "2  2023-09-09        Mendoza           Mendoza  Argentina     14.6        36   \n",
       "3  2023-09-09          Jujuy             Jujuy  Argentina      9.3        65   \n",
       "4  2023-09-09          Salta             Salta  Argentina     13.1        59   \n",
       "5  2023-09-09  Mar Del Plata      Buenos Aires  Argentina     11.5        74   \n",
       "\n",
       "   Precipitation        Last_Updated  \n",
       "0            0.0 2023-09-09 22:00:00  \n",
       "1            0.0 2023-09-09 22:00:00  \n",
       "2            0.0 2023-09-09 22:00:00  \n",
       "3            0.0 2023-09-09 22:00:00  \n",
       "4            0.0 2023-09-09 22:00:00  \n",
       "5            0.0 2023-09-09 21:45:00  "
      ]
     },
     "execution_count": 288,
     "metadata": {},
     "output_type": "execute_result"
    }
   ],
   "source": [
    "weather"
   ]
  },
  {
   "cell_type": "markdown",
   "id": "9ade10f3",
   "metadata": {},
   "source": [
    "## Chequeamos los Missing Values del DataFrame"
   ]
  },
  {
   "cell_type": "code",
   "execution_count": 290,
   "id": "edc58eb6",
   "metadata": {},
   "outputs": [
    {
     "data": {
      "text/plain": [
       "Date             0\n",
       "City_Name        0\n",
       "Region           0\n",
       "Country          0\n",
       "Weather          0\n",
       "Humidity         0\n",
       "Precipitation    0\n",
       "Last_Updated     0\n",
       "dtype: int64"
      ]
     },
     "execution_count": 290,
     "metadata": {},
     "output_type": "execute_result"
    }
   ],
   "source": [
    "weather.isnull().sum()"
   ]
  },
  {
   "cell_type": "markdown",
   "id": "601d913e",
   "metadata": {},
   "source": [
    "## Crear conexion a Redshift"
   ]
  },
  {
   "cell_type": "code",
   "execution_count": 291,
   "id": "3961a9e0",
   "metadata": {},
   "outputs": [
    {
     "name": "stdout",
     "output_type": "stream",
     "text": [
      "Conectado a Redshift con éxito!\n"
     ]
    }
   ],
   "source": [
    "import psycopg2\n",
    "url=\"data-engineer-cluster.cyhh5bfevlmn.us-east-1.redshift.amazonaws.com\"\n",
    "data_base=\"data-engineer-database\"\n",
    "user=Redshift_User\n",
    "\n",
    "\n",
    "try:  \n",
    "    conn = psycopg2.connect(\n",
    "        host='data-engineer-cluster.cyhh5bfevlmn.us-east-1.redshift.amazonaws.com',\n",
    "        dbname=data_base,\n",
    "        user=user,\n",
    "        password=Redshift_Key,\n",
    "        port='5439')\n",
    "    print(\"Conectado a Redshift con éxito!\")\n",
    "\n",
    "        \n",
    "except Exception as e:\n",
    "    print(\"No es posible conectar a Redshift\")\n",
    "    print(e)"
   ]
  },
  {
   "cell_type": "code",
   "execution_count": 281,
   "id": "806534eb",
   "metadata": {},
   "outputs": [],
   "source": [
    "# Crear un cursor:\n",
    "cur = conn.cursor()\n",
    "\n",
    "# Ejecutar la sentencia DROP TABLE:\n",
    "cur.execute(\"DROP TABLE IF EXISTS Weather\")\n",
    "\n",
    "# Hacer commit para aplicar los cambios:\n",
    "conn.commit()"
   ]
  },
  {
   "cell_type": "code",
   "execution_count": 282,
   "id": "595fbac8",
   "metadata": {},
   "outputs": [],
   "source": [
    "#Crear la tabla si no existe:\n",
    "with conn.cursor() as cur:\n",
    "    cur.execute(\"\"\"\n",
    "        CREATE TABLE IF NOT EXISTS Weather (\n",
    "            Date TIMESTAMP,\n",
    "            City_Name VARCHAR(20),\n",
    "            Region VARCHAR(25),\n",
    "            Country VARCHAR(25),\n",
    "            Weather FLOAT,\n",
    "            Humidity INT,\n",
    "            Precipitation FLOAT,\n",
    "            Last_Updated TIMESTAMP\n",
    "        )\n",
    "    \"\"\")\n",
    "    conn.commit()"
   ]
  },
  {
   "cell_type": "code",
   "execution_count": 292,
   "id": "3a0788fe",
   "metadata": {},
   "outputs": [],
   "source": [
    "from psycopg2.extras import execute_values\n",
    "\n",
    "with conn.cursor() as cur:\n",
    "    execute_values(\n",
    "        cur,\n",
    "        '''\n",
    "        INSERT INTO Weather (Date, City_Name, Region, Country, Weather, Humidity, Precipitation, Last_Updated)\n",
    "        VALUES %s\n",
    "        ''',\n",
    "        [tuple(row) for row in weather.values],\n",
    "        page_size=len(weather)\n",
    "    )\n",
    "    conn.commit()"
   ]
  },
  {
   "cell_type": "code",
   "execution_count": null,
   "id": "d46846f8",
   "metadata": {},
   "outputs": [],
   "source": []
  }
 ],
 "metadata": {
  "kernelspec": {
   "display_name": "Python 3 (ipykernel)",
   "language": "python",
   "name": "python3"
  },
  "language_info": {
   "codemirror_mode": {
    "name": "ipython",
    "version": 3
   },
   "file_extension": ".py",
   "mimetype": "text/x-python",
   "name": "python",
   "nbconvert_exporter": "python",
   "pygments_lexer": "ipython3",
   "version": "3.9.13"
  }
 },
 "nbformat": 4,
 "nbformat_minor": 5
}
