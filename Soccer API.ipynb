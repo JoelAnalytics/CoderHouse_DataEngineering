{
 "cells": [
  {
   "cell_type": "code",
   "execution_count": 20,
   "id": "5607850d",
   "metadata": {},
   "outputs": [],
   "source": [
    "import requests\n",
    "import json\n",
    "import pandas as pd"
   ]
  },
  {
   "cell_type": "markdown",
   "id": "1366ce62",
   "metadata": {},
   "source": [
    "### Por medio de un Json File vamos a manejar la las Key de la API y de Redshift y tambien usuario Redshift."
   ]
  },
  {
   "cell_type": "code",
   "execution_count": 21,
   "id": "159b922f",
   "metadata": {},
   "outputs": [],
   "source": [
    "with open(\"config.json\") as config_file:\n",
    "    config=json.load(config_file)"
   ]
  },
  {
   "cell_type": "code",
   "execution_count": 22,
   "id": "01802413",
   "metadata": {},
   "outputs": [
    {
     "data": {
      "text/plain": [
       "dict_keys(['API_KEY', 'Reshift_KEY', 'Redshift_User'])"
      ]
     },
     "execution_count": 22,
     "metadata": {},
     "output_type": "execute_result"
    }
   ],
   "source": [
    "config.keys()"
   ]
  },
  {
   "cell_type": "code",
   "execution_count": 23,
   "id": "0669014a",
   "metadata": {},
   "outputs": [],
   "source": [
    "Api_Key=config[\"API_KEY\"]"
   ]
  },
  {
   "cell_type": "code",
   "execution_count": 24,
   "id": "2cd95a99",
   "metadata": {},
   "outputs": [],
   "source": [
    "Redshift_Key=config[\"Reshift_KEY\"]"
   ]
  },
  {
   "cell_type": "code",
   "execution_count": 25,
   "id": "87cd3d6a",
   "metadata": {},
   "outputs": [],
   "source": [
    "Redshift_User=config[\"Redshift_User\"]"
   ]
  },
  {
   "cell_type": "code",
   "execution_count": 26,
   "id": "947f1333",
   "metadata": {},
   "outputs": [],
   "source": [
    "#Conexion a la API de Football-API"
   ]
  },
  {
   "cell_type": "code",
   "execution_count": 8,
   "id": "1012775e",
   "metadata": {},
   "outputs": [],
   "source": [
    "import http.client\n",
    "\n",
    "conn = http.client.HTTPSConnection(\"v3.football.api-sports.io\")\n",
    "\n",
    "headers = {\n",
    "    'x-rapidapi-host': \"v3.football.api-sports.io\",\n",
    "    'x-rapidapi-key': Api_Key\n",
    "    }\n",
    "\n",
    "conn.request(\"GET\", \"/leagues\", headers=headers)\n",
    "\n",
    "res = conn.getresponse()\n",
    "data = res.read()"
   ]
  },
  {
   "cell_type": "code",
   "execution_count": 9,
   "id": "28bcc37c",
   "metadata": {},
   "outputs": [],
   "source": [
    "#Cargando toda la data a un Diccionario\n",
    "leagues_data=json.loads(data)"
   ]
  },
  {
   "cell_type": "code",
   "execution_count": 10,
   "id": "b0984cb3",
   "metadata": {},
   "outputs": [
    {
     "data": {
      "text/plain": [
       "dict_keys(['get', 'parameters', 'errors', 'results', 'paging', 'response'])"
      ]
     },
     "execution_count": 10,
     "metadata": {},
     "output_type": "execute_result"
    }
   ],
   "source": [
    "#La Key \"Response\" es la que guarda toda la info que nos importa\n",
    "leagues_data.keys()"
   ]
  },
  {
   "cell_type": "markdown",
   "id": "0acefdd0",
   "metadata": {},
   "source": [
    "### Para el entregable la tabla principal es la de Goles sin embargo cree otra tabla que podria servirme para poder tener los valores fe fecha de inicio y fin de temporada cada año."
   ]
  },
  {
   "cell_type": "code",
   "execution_count": 27,
   "id": "2d49bb37",
   "metadata": {},
   "outputs": [],
   "source": [
    "def search_league(league_name):\n",
    "    for x in leagues_data[\"response\"]:\n",
    "        if x[\"league\"][\"name\"]==league_name:\n",
    "            id_league=x[\"league\"][\"id\"]\n",
    "            league_info=x[\"league\"]\n",
    "            df_league=x\n",
    "            break\n",
    "    return id_league,league_info,df_league"
   ]
  },
  {
   "cell_type": "code",
   "execution_count": 28,
   "id": "e40f1b41",
   "metadata": {},
   "outputs": [],
   "source": [
    "def create_df(league_name):\n",
    "    df_league=[]\n",
    "    df=search_league(league_name)[2]\n",
    "    for x in df[\"seasons\"]:\n",
    "        registro={\"year\":x[\"year\"],\"start\":x[\"start\"],\"end\":x[\"end\"]}\n",
    "        df_league.append(registro)\n",
    "    df_league=pd.DataFrame.from_dict(df_league)\n",
    "    \n",
    "    return df_league"
   ]
  },
  {
   "cell_type": "markdown",
   "id": "171455df",
   "metadata": {},
   "source": [
    "### Esta funcion genera un historico de Fechas de inicio y fin por temporada para la liga que yo quiera."
   ]
  },
  {
   "cell_type": "code",
   "execution_count": 29,
   "id": "9bd17acb",
   "metadata": {},
   "outputs": [
    {
     "data": {
      "text/html": [
       "<div>\n",
       "<style scoped>\n",
       "    .dataframe tbody tr th:only-of-type {\n",
       "        vertical-align: middle;\n",
       "    }\n",
       "\n",
       "    .dataframe tbody tr th {\n",
       "        vertical-align: top;\n",
       "    }\n",
       "\n",
       "    .dataframe thead th {\n",
       "        text-align: right;\n",
       "    }\n",
       "</style>\n",
       "<table border=\"1\" class=\"dataframe\">\n",
       "  <thead>\n",
       "    <tr style=\"text-align: right;\">\n",
       "      <th></th>\n",
       "      <th>year</th>\n",
       "      <th>start</th>\n",
       "      <th>end</th>\n",
       "    </tr>\n",
       "  </thead>\n",
       "  <tbody>\n",
       "    <tr>\n",
       "      <th>0</th>\n",
       "      <td>2015</td>\n",
       "      <td>2015-02-13</td>\n",
       "      <td>2015-12-07</td>\n",
       "    </tr>\n",
       "    <tr>\n",
       "      <th>1</th>\n",
       "      <td>2016</td>\n",
       "      <td>2016-08-26</td>\n",
       "      <td>2017-06-27</td>\n",
       "    </tr>\n",
       "    <tr>\n",
       "      <th>2</th>\n",
       "      <td>2017</td>\n",
       "      <td>2017-08-25</td>\n",
       "      <td>2018-05-15</td>\n",
       "    </tr>\n",
       "    <tr>\n",
       "      <th>3</th>\n",
       "      <td>2018</td>\n",
       "      <td>2018-08-10</td>\n",
       "      <td>2019-04-07</td>\n",
       "    </tr>\n",
       "    <tr>\n",
       "      <th>4</th>\n",
       "      <td>2019</td>\n",
       "      <td>2019-07-27</td>\n",
       "      <td>2020-03-10</td>\n",
       "    </tr>\n",
       "    <tr>\n",
       "      <th>5</th>\n",
       "      <td>2020</td>\n",
       "      <td>2020-10-30</td>\n",
       "      <td>2021-01-18</td>\n",
       "    </tr>\n",
       "    <tr>\n",
       "      <th>6</th>\n",
       "      <td>2021</td>\n",
       "      <td>2021-02-12</td>\n",
       "      <td>2021-12-12</td>\n",
       "    </tr>\n",
       "    <tr>\n",
       "      <th>7</th>\n",
       "      <td>2022</td>\n",
       "      <td>2022-02-10</td>\n",
       "      <td>2022-10-23</td>\n",
       "    </tr>\n",
       "    <tr>\n",
       "      <th>8</th>\n",
       "      <td>2023</td>\n",
       "      <td>2023-01-26</td>\n",
       "      <td>2023-07-30</td>\n",
       "    </tr>\n",
       "  </tbody>\n",
       "</table>\n",
       "</div>"
      ],
      "text/plain": [
       "   year       start         end\n",
       "0  2015  2015-02-13  2015-12-07\n",
       "1  2016  2016-08-26  2017-06-27\n",
       "2  2017  2017-08-25  2018-05-15\n",
       "3  2018  2018-08-10  2019-04-07\n",
       "4  2019  2019-07-27  2020-03-10\n",
       "5  2020  2020-10-30  2021-01-18\n",
       "6  2021  2021-02-12  2021-12-12\n",
       "7  2022  2022-02-10  2022-10-23\n",
       "8  2023  2023-01-26  2023-07-30"
      ]
     },
     "execution_count": 29,
     "metadata": {},
     "output_type": "execute_result"
    }
   ],
   "source": [
    "create_df(\"Liga Profesional Argentina\")"
   ]
  },
  {
   "cell_type": "markdown",
   "id": "bdd9f43c",
   "metadata": {},
   "source": [
    "### Vamos a crear una funcion que tome como argumentos, el ID de un equipo y su liga, y el periodo de años que queremos. Con esos valores la funcion va hacer un llamado por año a la API y luego internamente va combinar los diccionarios que hay dentro de cada año para mesclar los datos y obtener un DF que muestre los goles a favor y en contra por periodo de minuto por año para el equipo y liga seleccionado"
   ]
  },
  {
   "cell_type": "code",
   "execution_count": 30,
   "id": "94b50db7",
   "metadata": {},
   "outputs": [],
   "source": [
    "# Año, Equipo, Minuto , Goles "
   ]
  },
  {
   "cell_type": "code",
   "execution_count": 15,
   "id": "86db45d4",
   "metadata": {},
   "outputs": [],
   "source": [
    "import http.client\n",
    "\n",
    "conn = http.client.HTTPSConnection(\"v3.football.api-sports.io\")\n",
    "\n",
    "headers = {\n",
    "    'x-rapidapi-host': \"v3.football.api-sports.io\",\n",
    "    'x-rapidapi-key': Api_Key\n",
    "    }\n",
    "\n",
    "conn.request(\"GET\", \"/teams/statistics?season=2015&team=435&league=128\", headers=headers)\n",
    "\n",
    "res = conn.getresponse()\n",
    "stats_data = res.read()"
   ]
  },
  {
   "cell_type": "code",
   "execution_count": 31,
   "id": "8522cb4b",
   "metadata": {},
   "outputs": [],
   "source": [
    "def create_df_stats(team_id,fecha_inicio,fecha_fin,league):\n",
    "    \n",
    "    conn = http.client.HTTPSConnection(\"v3.football.api-sports.io\")\n",
    "\n",
    "    headers = {\n",
    "        'x-rapidapi-host': \"v3.football.api-sports.io\",\n",
    "        'x-rapidapi-key': Api_Key\n",
    "        }\n",
    "    \n",
    "    df_final=[]\n",
    "    \n",
    "    for x in range(fecha_inicio,fecha_fin+1):\n",
    "        code=\"/teams/statistics?season=\"+str(x)+\"&team=\"+str(team_id)+\"&league=\"+str(league)\n",
    "        conn.request(\"GET\", code , headers=headers)\n",
    "        res = conn.getresponse()\n",
    "        stats_data = res.read()\n",
    "        teams_df=json.loads(stats_data)\n",
    "        #Definiendo variables relevantes\n",
    "        team_name=teams_df[\"response\"][\"team\"][\"name\"]\n",
    "        ##Definiendo Df de Goles a Favor y Goles en Contra en Memoria que no requiere llamada extra de la API\n",
    "        goals_for=teams_df[\"response\"][\"goals\"][\"for\"][\"minute\"]\n",
    "        goals_against=teams_df[\"response\"][\"goals\"][\"against\"][\"minute\"]\n",
    "        \n",
    "        #El orden de las Keys del diccionario a Favor y en Contra no deberia Cambiar para juntar la data por Minutos.\n",
    "        #Vamos a chequear si no hubo algun cambio para no poner goles en rangos equivocados de minutos antes de avanzar\n",
    "        if list(goals_for.keys())==list(goals_against.keys()):\n",
    "            \n",
    "            for minute_for in goals_for.keys():\n",
    "                range_minutes=minute_for\n",
    "                total_goals=goals_for[minute_for][\"total\"]\n",
    "                total_goals_against=goals_against[minute_for][\"total\"]\n",
    "                registro={\"Year\":x,\"Team\":team_name,\"Minutes\":range_minutes,\"Goals_For\":total_goals,\"Goals_Against\":total_goals_against}\n",
    "                df_final.append(registro)            \n",
    "        else:\n",
    "            print(\"Los minutos no Matchean\")\n",
    "            \n",
    "    df_final=pd.DataFrame.from_dict(df_final)\n",
    "            \n",
    "    return df_final"
   ]
  },
  {
   "cell_type": "code",
   "execution_count": 32,
   "id": "c660b2bd",
   "metadata": {},
   "outputs": [],
   "source": [
    "df_river=create_df_stats(435,2015,2023,128)"
   ]
  },
  {
   "cell_type": "code",
   "execution_count": 33,
   "id": "3069af81",
   "metadata": {},
   "outputs": [
    {
     "data": {
      "text/html": [
       "<div>\n",
       "<style scoped>\n",
       "    .dataframe tbody tr th:only-of-type {\n",
       "        vertical-align: middle;\n",
       "    }\n",
       "\n",
       "    .dataframe tbody tr th {\n",
       "        vertical-align: top;\n",
       "    }\n",
       "\n",
       "    .dataframe thead th {\n",
       "        text-align: right;\n",
       "    }\n",
       "</style>\n",
       "<table border=\"1\" class=\"dataframe\">\n",
       "  <thead>\n",
       "    <tr style=\"text-align: right;\">\n",
       "      <th></th>\n",
       "      <th>Year</th>\n",
       "      <th>Team</th>\n",
       "      <th>Minutes</th>\n",
       "      <th>Goals_For</th>\n",
       "      <th>Goals_Against</th>\n",
       "    </tr>\n",
       "  </thead>\n",
       "  <tbody>\n",
       "    <tr>\n",
       "      <th>0</th>\n",
       "      <td>2015</td>\n",
       "      <td>River Plate</td>\n",
       "      <td>0-15</td>\n",
       "      <td>4.0</td>\n",
       "      <td>3.0</td>\n",
       "    </tr>\n",
       "    <tr>\n",
       "      <th>1</th>\n",
       "      <td>2015</td>\n",
       "      <td>River Plate</td>\n",
       "      <td>16-30</td>\n",
       "      <td>8.0</td>\n",
       "      <td>3.0</td>\n",
       "    </tr>\n",
       "    <tr>\n",
       "      <th>2</th>\n",
       "      <td>2015</td>\n",
       "      <td>River Plate</td>\n",
       "      <td>31-45</td>\n",
       "      <td>7.0</td>\n",
       "      <td>5.0</td>\n",
       "    </tr>\n",
       "    <tr>\n",
       "      <th>3</th>\n",
       "      <td>2015</td>\n",
       "      <td>River Plate</td>\n",
       "      <td>46-60</td>\n",
       "      <td>6.0</td>\n",
       "      <td>9.0</td>\n",
       "    </tr>\n",
       "    <tr>\n",
       "      <th>4</th>\n",
       "      <td>2015</td>\n",
       "      <td>River Plate</td>\n",
       "      <td>61-75</td>\n",
       "      <td>8.0</td>\n",
       "      <td>5.0</td>\n",
       "    </tr>\n",
       "  </tbody>\n",
       "</table>\n",
       "</div>"
      ],
      "text/plain": [
       "   Year         Team Minutes  Goals_For  Goals_Against\n",
       "0  2015  River Plate    0-15        4.0            3.0\n",
       "1  2015  River Plate   16-30        8.0            3.0\n",
       "2  2015  River Plate   31-45        7.0            5.0\n",
       "3  2015  River Plate   46-60        6.0            9.0\n",
       "4  2015  River Plate   61-75        8.0            5.0"
      ]
     },
     "execution_count": 33,
     "metadata": {},
     "output_type": "execute_result"
    }
   ],
   "source": [
    "df_river.head()"
   ]
  },
  {
   "cell_type": "markdown",
   "id": "8d2b8e42",
   "metadata": {},
   "source": [
    "## Chequeamos los Missing Values del DataFrame"
   ]
  },
  {
   "cell_type": "code",
   "execution_count": 34,
   "id": "75dacb9d",
   "metadata": {},
   "outputs": [
    {
     "data": {
      "text/plain": [
       "Year              0\n",
       "Team              0\n",
       "Minutes           0\n",
       "Goals_For        11\n",
       "Goals_Against    10\n",
       "dtype: int64"
      ]
     },
     "execution_count": 34,
     "metadata": {},
     "output_type": "execute_result"
    }
   ],
   "source": [
    "df_river.isnull().sum()"
   ]
  },
  {
   "cell_type": "markdown",
   "id": "d461aafa",
   "metadata": {},
   "source": [
    "### Los missing_values se deben a que hubo ciertos años, y cierta franja de minutos en los que no se metio goles y tampoco se recibio goles. Eso equivale a 0 goles en dicho periodo por lo que se va transformar a 0"
   ]
  },
  {
   "cell_type": "code",
   "execution_count": 35,
   "id": "4beb4722",
   "metadata": {},
   "outputs": [],
   "source": [
    "df_river=df_river.fillna(0)"
   ]
  },
  {
   "cell_type": "markdown",
   "id": "e37d55e7",
   "metadata": {},
   "source": [
    "### Como ultimo paso antes de cargar la tabla a Redshift vamos a transformar los goles de valor Flotante a Entero, ya que los goles son variable discreta."
   ]
  },
  {
   "cell_type": "code",
   "execution_count": 36,
   "id": "79aae0e2",
   "metadata": {},
   "outputs": [],
   "source": [
    "df_river[\"Goals_For\"]=df_river[\"Goals_For\"].astype(int)\n",
    "df_river[\"Goals_Against\"]=df_river[\"Goals_Against\"].astype(int)\n",
    "df_river[\"Year\"] = pd.to_datetime(df_river[\"Year\"], format=\"%Y\")\n",
    "df_river[\"Year\"]=df_river[\"Year\"].dt.year"
   ]
  },
  {
   "cell_type": "markdown",
   "id": "5d137919",
   "metadata": {},
   "source": [
    "### DataFrame Final"
   ]
  },
  {
   "cell_type": "code",
   "execution_count": 37,
   "id": "d3c308b3",
   "metadata": {},
   "outputs": [
    {
     "data": {
      "text/html": [
       "<div>\n",
       "<style scoped>\n",
       "    .dataframe tbody tr th:only-of-type {\n",
       "        vertical-align: middle;\n",
       "    }\n",
       "\n",
       "    .dataframe tbody tr th {\n",
       "        vertical-align: top;\n",
       "    }\n",
       "\n",
       "    .dataframe thead th {\n",
       "        text-align: right;\n",
       "    }\n",
       "</style>\n",
       "<table border=\"1\" class=\"dataframe\">\n",
       "  <thead>\n",
       "    <tr style=\"text-align: right;\">\n",
       "      <th></th>\n",
       "      <th>Year</th>\n",
       "      <th>Team</th>\n",
       "      <th>Minutes</th>\n",
       "      <th>Goals_For</th>\n",
       "      <th>Goals_Against</th>\n",
       "    </tr>\n",
       "  </thead>\n",
       "  <tbody>\n",
       "    <tr>\n",
       "      <th>0</th>\n",
       "      <td>2015</td>\n",
       "      <td>River Plate</td>\n",
       "      <td>0-15</td>\n",
       "      <td>4</td>\n",
       "      <td>3</td>\n",
       "    </tr>\n",
       "    <tr>\n",
       "      <th>1</th>\n",
       "      <td>2015</td>\n",
       "      <td>River Plate</td>\n",
       "      <td>16-30</td>\n",
       "      <td>8</td>\n",
       "      <td>3</td>\n",
       "    </tr>\n",
       "    <tr>\n",
       "      <th>2</th>\n",
       "      <td>2015</td>\n",
       "      <td>River Plate</td>\n",
       "      <td>31-45</td>\n",
       "      <td>7</td>\n",
       "      <td>5</td>\n",
       "    </tr>\n",
       "    <tr>\n",
       "      <th>3</th>\n",
       "      <td>2015</td>\n",
       "      <td>River Plate</td>\n",
       "      <td>46-60</td>\n",
       "      <td>6</td>\n",
       "      <td>9</td>\n",
       "    </tr>\n",
       "    <tr>\n",
       "      <th>4</th>\n",
       "      <td>2015</td>\n",
       "      <td>River Plate</td>\n",
       "      <td>61-75</td>\n",
       "      <td>8</td>\n",
       "      <td>5</td>\n",
       "    </tr>\n",
       "    <tr>\n",
       "      <th>...</th>\n",
       "      <td>...</td>\n",
       "      <td>...</td>\n",
       "      <td>...</td>\n",
       "      <td>...</td>\n",
       "      <td>...</td>\n",
       "    </tr>\n",
       "    <tr>\n",
       "      <th>67</th>\n",
       "      <td>2023</td>\n",
       "      <td>River Plate</td>\n",
       "      <td>46-60</td>\n",
       "      <td>7</td>\n",
       "      <td>2</td>\n",
       "    </tr>\n",
       "    <tr>\n",
       "      <th>68</th>\n",
       "      <td>2023</td>\n",
       "      <td>River Plate</td>\n",
       "      <td>61-75</td>\n",
       "      <td>8</td>\n",
       "      <td>6</td>\n",
       "    </tr>\n",
       "    <tr>\n",
       "      <th>69</th>\n",
       "      <td>2023</td>\n",
       "      <td>River Plate</td>\n",
       "      <td>76-90</td>\n",
       "      <td>10</td>\n",
       "      <td>4</td>\n",
       "    </tr>\n",
       "    <tr>\n",
       "      <th>70</th>\n",
       "      <td>2023</td>\n",
       "      <td>River Plate</td>\n",
       "      <td>91-105</td>\n",
       "      <td>4</td>\n",
       "      <td>1</td>\n",
       "    </tr>\n",
       "    <tr>\n",
       "      <th>71</th>\n",
       "      <td>2023</td>\n",
       "      <td>River Plate</td>\n",
       "      <td>106-120</td>\n",
       "      <td>0</td>\n",
       "      <td>0</td>\n",
       "    </tr>\n",
       "  </tbody>\n",
       "</table>\n",
       "<p>72 rows × 5 columns</p>\n",
       "</div>"
      ],
      "text/plain": [
       "    Year         Team  Minutes  Goals_For  Goals_Against\n",
       "0   2015  River Plate     0-15          4              3\n",
       "1   2015  River Plate    16-30          8              3\n",
       "2   2015  River Plate    31-45          7              5\n",
       "3   2015  River Plate    46-60          6              9\n",
       "4   2015  River Plate    61-75          8              5\n",
       "..   ...          ...      ...        ...            ...\n",
       "67  2023  River Plate    46-60          7              2\n",
       "68  2023  River Plate    61-75          8              6\n",
       "69  2023  River Plate    76-90         10              4\n",
       "70  2023  River Plate   91-105          4              1\n",
       "71  2023  River Plate  106-120          0              0\n",
       "\n",
       "[72 rows x 5 columns]"
      ]
     },
     "execution_count": 37,
     "metadata": {},
     "output_type": "execute_result"
    }
   ],
   "source": [
    "df_river"
   ]
  },
  {
   "cell_type": "markdown",
   "id": "c1016c71",
   "metadata": {},
   "source": [
    "## Crear conexion a Redshift"
   ]
  },
  {
   "cell_type": "code",
   "execution_count": 38,
   "id": "b2c1dc95",
   "metadata": {},
   "outputs": [
    {
     "name": "stdout",
     "output_type": "stream",
     "text": [
      "Conectado a Redshift con éxito!\n"
     ]
    }
   ],
   "source": [
    "import psycopg2\n",
    "url=\"data-engineer-cluster.cyhh5bfevlmn.us-east-1.redshift.amazonaws.com\"\n",
    "data_base=\"data-engineer-database\"\n",
    "user=Redshift_User\n",
    "\n",
    "\n",
    "try:  \n",
    "    conn = psycopg2.connect(\n",
    "        host='data-engineer-cluster.cyhh5bfevlmn.us-east-1.redshift.amazonaws.com',\n",
    "        dbname=data_base,\n",
    "        user=user,\n",
    "        password=Redshift_Key,\n",
    "        port='5439')\n",
    "    print(\"Conectado a Redshift con éxito!\")\n",
    "\n",
    "        \n",
    "except Exception as e:\n",
    "    print(\"No es posible conectar a Redshift\")\n",
    "    print(e)"
   ]
  },
  {
   "cell_type": "code",
   "execution_count": 39,
   "id": "1c6fddf3",
   "metadata": {},
   "outputs": [],
   "source": [
    "# Crear un cursor:\n",
    "cur = conn.cursor()\n",
    "\n",
    "# Ejecutar la sentencia DROP TABLE:\n",
    "cur.execute(\"DROP TABLE IF EXISTS Goals\")\n",
    "\n",
    "# Hacer commit para aplicar los cambios:\n",
    "conn.commit()"
   ]
  },
  {
   "cell_type": "code",
   "execution_count": 40,
   "id": "56397aea",
   "metadata": {},
   "outputs": [],
   "source": [
    "#Crear la tabla si no existe:\n",
    "with conn.cursor() as cur:\n",
    "    cur.execute(\"\"\"\n",
    "        CREATE TABLE IF NOT EXISTS Goals (\n",
    "            Year INT,\n",
    "            Team VARCHAR(255),\n",
    "            Minutes VARCHAR(10),\n",
    "            Goals_For INT,\n",
    "            Goals_Against INT\n",
    "        )\n",
    "    \"\"\")\n",
    "    conn.commit()"
   ]
  },
  {
   "cell_type": "code",
   "execution_count": 41,
   "id": "203ba49e",
   "metadata": {},
   "outputs": [],
   "source": [
    "#consultando la tabla Goles:\n",
    "cur = conn.cursor()\n",
    "cur.execute(\"SELECT * FROM Goals\")\n",
    "results = cur.fetchall()\n",
    "#results"
   ]
  },
  {
   "cell_type": "code",
   "execution_count": 42,
   "id": "0be8a5d1",
   "metadata": {},
   "outputs": [],
   "source": [
    "from psycopg2.extras import execute_values\n",
    "\n",
    "with conn.cursor() as cur:\n",
    "    execute_values(\n",
    "        cur,\n",
    "        '''\n",
    "        INSERT INTO Goals (Year, Team, Minutes, Goals_For, Goals_Against)\n",
    "        VALUES %s\n",
    "        ''',\n",
    "        [tuple(row) for row in df_river.values],\n",
    "        page_size=len(df_river)\n",
    "    )\n",
    "    conn.commit()"
   ]
  },
  {
   "cell_type": "code",
   "execution_count": 43,
   "id": "4d1dd78b",
   "metadata": {},
   "outputs": [],
   "source": [
    "# Vamos a revisar la tabla\n",
    "\n",
    "cur = conn.cursor()\n",
    "cur.execute(\"SELECT * FROM Goals\")\n",
    "results = cur.fetchall()"
   ]
  },
  {
   "cell_type": "code",
   "execution_count": 44,
   "id": "7d4dc19c",
   "metadata": {},
   "outputs": [
    {
     "data": {
      "text/html": [
       "<div>\n",
       "<style scoped>\n",
       "    .dataframe tbody tr th:only-of-type {\n",
       "        vertical-align: middle;\n",
       "    }\n",
       "\n",
       "    .dataframe tbody tr th {\n",
       "        vertical-align: top;\n",
       "    }\n",
       "\n",
       "    .dataframe thead th {\n",
       "        text-align: right;\n",
       "    }\n",
       "</style>\n",
       "<table border=\"1\" class=\"dataframe\">\n",
       "  <thead>\n",
       "    <tr style=\"text-align: right;\">\n",
       "      <th></th>\n",
       "      <th>Year</th>\n",
       "      <th>Team</th>\n",
       "      <th>Minutes</th>\n",
       "      <th>Goals_For</th>\n",
       "      <th>Goals_Against</th>\n",
       "    </tr>\n",
       "  </thead>\n",
       "  <tbody>\n",
       "    <tr>\n",
       "      <th>0</th>\n",
       "      <td>2015</td>\n",
       "      <td>River Plate</td>\n",
       "      <td>0-15</td>\n",
       "      <td>4</td>\n",
       "      <td>3</td>\n",
       "    </tr>\n",
       "    <tr>\n",
       "      <th>1</th>\n",
       "      <td>2015</td>\n",
       "      <td>River Plate</td>\n",
       "      <td>16-30</td>\n",
       "      <td>8</td>\n",
       "      <td>3</td>\n",
       "    </tr>\n",
       "    <tr>\n",
       "      <th>2</th>\n",
       "      <td>2015</td>\n",
       "      <td>River Plate</td>\n",
       "      <td>31-45</td>\n",
       "      <td>7</td>\n",
       "      <td>5</td>\n",
       "    </tr>\n",
       "    <tr>\n",
       "      <th>3</th>\n",
       "      <td>2015</td>\n",
       "      <td>River Plate</td>\n",
       "      <td>46-60</td>\n",
       "      <td>6</td>\n",
       "      <td>9</td>\n",
       "    </tr>\n",
       "    <tr>\n",
       "      <th>4</th>\n",
       "      <td>2015</td>\n",
       "      <td>River Plate</td>\n",
       "      <td>61-75</td>\n",
       "      <td>8</td>\n",
       "      <td>5</td>\n",
       "    </tr>\n",
       "  </tbody>\n",
       "</table>\n",
       "</div>"
      ],
      "text/plain": [
       "   Year         Team Minutes  Goals_For  Goals_Against\n",
       "0  2015  River Plate    0-15          4              3\n",
       "1  2015  River Plate   16-30          8              3\n",
       "2  2015  River Plate   31-45          7              5\n",
       "3  2015  River Plate   46-60          6              9\n",
       "4  2015  River Plate   61-75          8              5"
      ]
     },
     "execution_count": 44,
     "metadata": {},
     "output_type": "execute_result"
    }
   ],
   "source": [
    "# Veo cómo quedó la tabla \"canciones\" en Redshift. Convierto \"results\" al DataFrame \"d\n",
    "column_names=[\"Year\", \"Team\", \"Minutes\", \"Goals_For\", \"Goals_Against\"]\n",
    "df_redshift = pd.DataFrame(results, columns=column_names)\n",
    "df_redshift.head()"
   ]
  },
  {
   "cell_type": "code",
   "execution_count": 45,
   "id": "10086c7f",
   "metadata": {},
   "outputs": [],
   "source": [
    "# Cierro tanto el cursor como la conexión a la base de datos:\n",
    "cur.close()\n",
    "conn.close()"
   ]
  },
  {
   "cell_type": "code",
   "execution_count": null,
   "id": "4b8f974f",
   "metadata": {},
   "outputs": [],
   "source": []
  }
 ],
 "metadata": {
  "kernelspec": {
   "display_name": "Python 3 (ipykernel)",
   "language": "python",
   "name": "python3"
  },
  "language_info": {
   "codemirror_mode": {
    "name": "ipython",
    "version": 3
   },
   "file_extension": ".py",
   "mimetype": "text/x-python",
   "name": "python",
   "nbconvert_exporter": "python",
   "pygments_lexer": "ipython3",
   "version": "3.9.13"
  }
 },
 "nbformat": 4,
 "nbformat_minor": 5
}
